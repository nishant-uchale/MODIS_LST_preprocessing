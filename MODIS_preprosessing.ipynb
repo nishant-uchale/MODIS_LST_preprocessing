{
 "cells": [
  {
   "cell_type": "code",
   "execution_count": 134,
   "id": "948d6442-6a8a-4643-b80d-ed6c609ee194",
   "metadata": {},
   "outputs": [],
   "source": [
    "# Import packages\n",
    "import os\n",
    "import warnings\n",
    "import cartopy.crs as ccrs\n",
    "from cartopy import feature as cf\n",
    "import matplotlib.pyplot as plt\n",
    "import numpy.ma as ma\n",
    "import xarray as xr\n",
    "import rioxarray as rxr\n",
    "import glob as glob\n",
    "import pandas as pd\n",
    "import numpy as np\n",
    "warnings.simplefilter('ignore')"
   ]
  },
  {
   "cell_type": "code",
   "execution_count": null,
   "id": "adaf0562",
   "metadata": {},
   "outputs": [],
   "source": [
    "## Code for preprossesing of daily data files of .hdf format of MODIS satellite"
   ]
  },
  {
   "cell_type": "code",
   "execution_count": 135,
   "id": "e2309e20-26f4-4b17-bf9d-059dd815bd08",
   "metadata": {
    "scrolled": true
   },
   "outputs": [
    {
     "name": "stdout",
     "output_type": "stream",
     "text": [
      "2001\n",
      "2002\n",
      "2003\n",
      "2004\n",
      "2005\n",
      "2006\n",
      "2007\n",
      "2008\n",
      "2009\n",
      "2010\n",
      "2011\n",
      "2012\n",
      "2013\n",
      "2014\n",
      "2015\n",
      "2016\n",
      "2017\n",
      "2018\n",
      "2019\n",
      "2020\n"
     ]
    }
   ],
   "source": [
    "years = [str(i) for i in range(2001,2021)]                                  # string format\n",
    "years_int = [int(i) for i in range(2001,2021)]                              # integer format\n",
    "day=[str(i).zfill(3) for i in range(1,367)]                                 # string list with numbers from 001 to 366\n",
    "start_date = '2001-01-01'                                                   # start date (To be modified according to your data files)\n",
    "end_date = '2020-12-31'                                                     # end date (To be modified according to your data files)\n",
    "date_range = pd.date_range(start=start_date, end=end_date, freq='D')\n",
    "timeseries=pd.DataFrame(date_range)\n",
    "cnt=timeseries.count()\n",
    "q=0\n",
    "\n",
    "compiled=[None]*20                                                          # list length to be changed according to your no. of years of data\n",
    "for y in range(0,20):                                                       # loop closing number same as no. of years of data\n",
    "    \n",
    "    # To get year (integer input) from the user\n",
    "    # year = int(input(\"Enter a year: \"))\n",
    "    \n",
    "    # divided by 100 means century year (ending with 00)\n",
    "    # century year divided by 400 is leap year\n",
    "    if (years_int[y] % 400 == 0) and (years_int[y] % 100 == 0):\n",
    "        LST=[None]*366\n",
    "        print(years[y])\n",
    "        # print('This is a leap year')\n",
    "        for d in range(0,366):\n",
    "            try:\n",
    "                file=glob.glob(\"<PATH>/MOD11C1.A\"+years[y]+day[d]+\"*.hdf\")  # Change the path according to your files\n",
    "                LS = rxr.open_rasterio(file[0], masked=True)\n",
    "                LS = LS[\"LST_Day_CMG\"].squeeze().sel(x=slice('72.75','73.00'), y=slice('19.35','18.85'))*0.02   # variable and lat, lon slicing can be changed accordingly\n",
    "                LS = LS.rename({'x':'lon'}).rename({'y':'lat'})\n",
    "                LS = LS.reset_coords('band', drop=True).reset_coords('spatial_ref', drop=True)\n",
    "                LST[d] = LS.assign_coords({'time':date_range[q]}).expand_dims('time').to_dataset()\n",
    "                q=q+1\n",
    "            except:\n",
    "                LST[d]=xr.full_like(LST[0],np.nan)                          # Missing daily files data filled with Nan value datasets\n",
    "                var=LST[d].drop_dims('time').assign_coords({'time':date_range[q]}).expand_dims('time')\n",
    "                LST[d]['time']=var['time']\n",
    "                q=q+1\n",
    "                continue\n",
    "        compiled[y]=LST\n",
    "                \n",
    "    # not divided by 100 means not a century year\n",
    "    # year divided by 4 is a leap year\n",
    "    elif (years_int[y] % 4 ==0) and (years_int[y] % 100 != 0):\n",
    "        LST=[None]*366\n",
    "        print(years[y])\n",
    "        # print('This is a leap year')\n",
    "        for d in range(0,366):\n",
    "            try:\n",
    "                file=glob.glob(\"<PATH>/MOD11C1.A\"+years[y]+day[d]+\"*.hdf\")\n",
    "                LS = rxr.open_rasterio(file[0], masked=True)\n",
    "                LS = LS[\"LST_Day_CMG\"].squeeze().sel(x=slice('72.75','73.00'), y=slice('19.35','18.85'))*0.02\n",
    "                LS = LS.rename({'x':'lon'}).rename({'y':'lat'})\n",
    "                LS = LS.reset_coords('band', drop=True).reset_coords('spatial_ref', drop=True)\n",
    "                LST[d] = LS.assign_coords({'time':date_range[q]}).expand_dims('time').to_dataset()\n",
    "                q=q+1\n",
    "            except:\n",
    "                LST[d]=xr.full_like(LST[0],np.nan)\n",
    "                var=LST[d].drop_dims('time').assign_coords({'time':date_range[q]}).expand_dims('time')\n",
    "                LST[d]['time']=var['time']\n",
    "                q=q+1\n",
    "                continue\n",
    "        compiled[y]=LST\n",
    "    \n",
    "    # if not divided by both 400 (century year) and 4 (not century year)\n",
    "    # year is not leap year\n",
    "    else:\n",
    "        LST=[None]*365\n",
    "        print(years[y])\n",
    "        for d in range(0,365):\n",
    "            try:\n",
    "                file=glob.glob(\"<PATH>/MOD11C1.A\"+years[y]+day[d]+\"*.hdf\")\n",
    "                LS = rxr.open_rasterio(file[0], masked=True)\n",
    "                LS = LS[\"LST_Day_CMG\"].squeeze().sel(x=slice('72.75','73.00'), y=slice('19.35','18.85'))*0.02\n",
    "                LS = LS.rename({'x':'lon'}).rename({'y':'lat'})\n",
    "                LS = LS.reset_coords('band', drop=True).reset_coords('spatial_ref', drop=True)\n",
    "                LST[d] = LS.assign_coords({'time':date_range[q]}).expand_dims('time').to_dataset()\n",
    "                q=q+1\n",
    "            except:\n",
    "                LST[d]=xr.full_like(LST[0],np.nan)\n",
    "                var=LST[d].drop_dims('time').assign_coords({'time':date_range[q]}).expand_dims('time')\n",
    "                LST[d]['time']=var['time']\n",
    "                q=q+1\n",
    "                continue\n",
    "        compiled[y]=LST"
   ]
  },
  {
   "cell_type": "code",
   "execution_count": 136,
   "id": "a677adae-b500-4c09-9f79-31f30acadaf7",
   "metadata": {},
   "outputs": [],
   "source": [
    "year_concat=[None]*20\n",
    "for i in range(0,20):\n",
    "    year_concat[i] = xr.concat(compiled[i], dim='time')"
   ]
  },
  {
   "cell_type": "code",
   "execution_count": 137,
   "id": "a8f3f18b-4152-46d5-923b-fe35747776e0",
   "metadata": {},
   "outputs": [],
   "source": [
    "final_datas=xr.concat(year_concat,dim='time')"
   ]
  },
  {
   "cell_type": "code",
   "execution_count": 138,
   "id": "2d8acb34-2490-41a9-8e53-2f0d647e3453",
   "metadata": {},
   "outputs": [],
   "source": [
    "final_datas.to_netcdf('<PATH>/All_Mumbai_MODIS_LST_Day_CMG.nc', mode='w')"
   ]
  }
 ],
 "metadata": {
  "kernelspec": {
   "display_name": "AI",
   "language": "python",
   "name": "ai"
  },
  "language_info": {
   "codemirror_mode": {
    "name": "ipython",
    "version": 3
   },
   "file_extension": ".py",
   "mimetype": "text/x-python",
   "name": "python",
   "nbconvert_exporter": "python",
   "pygments_lexer": "ipython3",
   "version": "3.7.12"
  }
 },
 "nbformat": 4,
 "nbformat_minor": 5
}
